{
 "cells": [
  {
   "cell_type": "code",
   "execution_count": 1,
   "metadata": {},
   "outputs": [],
   "source": [
    "import pandas as pd\n",
    "from numpy.random import seed\n",
    "seed(1)\n",
    "from sklearn.model_selection import train_test_split\n",
    "from sklearn.preprocessing import LabelEncoder, MinMaxScaler\n",
    "from tensorflow.keras.utils import to_categorical\n",
    "import matplotlib.pyplot as plt"
   ]
  },
  {
   "cell_type": "code",
   "execution_count": 36,
   "metadata": {
    "scrolled": false
   },
   "outputs": [
    {
     "data": {
      "text/plain": [
       "Index(['Country', 'Sex', 'Age', 'Marriage duration (years)',\n",
       "       'Number of children', 'Number of brought up children', 'Education',\n",
       "       'Material Status', 'Religion',\n",
       "       'Religiosity (1-not religious at all, 7-extremely religious)',\n",
       "       'Pension (1-strongly agree, 4-neither agree nor disagree, 7-strongly disagree)'],\n",
       "      dtype='object')"
      ]
     },
     "execution_count": 36,
     "metadata": {},
     "output_type": "execute_result"
    }
   ],
   "source": [
    "data = pd.read_csv(\"../Pandas/data.csv\")\n",
    "data.columns"
   ]
  },
  {
   "cell_type": "code",
   "execution_count": 37,
   "metadata": {},
   "outputs": [
    {
     "name": "stdout",
     "output_type": "stream",
     "text": [
      "(6779, 10) (6779, 1)\n"
     ]
    }
   ],
   "source": [
    "X = data[[\"Country\",\"Sex\",\"Age\",\"Number of children\",\"Number of brought up children\",\"Education\",\"Material Status\",\"Religion\",\"Religiosity (1-not religious at all, 7-extremely religious)\",\"Pension (1-strongly agree, 4-neither agree nor disagree, 7-strongly disagree)\"]]\n",
    "y = data[\"Marriage duration (years)\"].values.reshape(-1, 1)\n",
    "print(X.shape, y.shape)\n",
    "\n"
   ]
  },
  {
   "cell_type": "code",
   "execution_count": 38,
   "metadata": {},
   "outputs": [
    {
     "data": {
      "text/html": [
       "<div>\n",
       "<style scoped>\n",
       "    .dataframe tbody tr th:only-of-type {\n",
       "        vertical-align: middle;\n",
       "    }\n",
       "\n",
       "    .dataframe tbody tr th {\n",
       "        vertical-align: top;\n",
       "    }\n",
       "\n",
       "    .dataframe thead th {\n",
       "        text-align: right;\n",
       "    }\n",
       "</style>\n",
       "<table border=\"1\" class=\"dataframe\">\n",
       "  <thead>\n",
       "    <tr style=\"text-align: right;\">\n",
       "      <th></th>\n",
       "      <th>Age</th>\n",
       "      <th>Number of children</th>\n",
       "      <th>Number of brought up children</th>\n",
       "      <th>Religiosity (1-not religious at all, 7-extremely religious)</th>\n",
       "      <th>Pension (1-strongly agree, 4-neither agree nor disagree, 7-strongly disagree)</th>\n",
       "      <th>Country_Brazil</th>\n",
       "      <th>Country_Bulgaria</th>\n",
       "      <th>Country_China</th>\n",
       "      <th>Country_Croatia</th>\n",
       "      <th>Country_Estonia</th>\n",
       "      <th>...</th>\n",
       "      <th>Religion_Evangelic</th>\n",
       "      <th>Religion_Jehovah</th>\n",
       "      <th>Religion_Jewish</th>\n",
       "      <th>Religion_Muslim</th>\n",
       "      <th>Religion_None</th>\n",
       "      <th>Religion_Protestant</th>\n",
       "      <th>Religion_Protestant0</th>\n",
       "      <th>Religion_ProtestantCatholic</th>\n",
       "      <th>Religion_ProtestantProtestant</th>\n",
       "      <th>Religion_Spiritualism</th>\n",
       "    </tr>\n",
       "  </thead>\n",
       "  <tbody>\n",
       "    <tr>\n",
       "      <th>0</th>\n",
       "      <td>21.0</td>\n",
       "      <td>0</td>\n",
       "      <td>0</td>\n",
       "      <td>4</td>\n",
       "      <td>4</td>\n",
       "      <td>1</td>\n",
       "      <td>0</td>\n",
       "      <td>0</td>\n",
       "      <td>0</td>\n",
       "      <td>0</td>\n",
       "      <td>...</td>\n",
       "      <td>0</td>\n",
       "      <td>0</td>\n",
       "      <td>0</td>\n",
       "      <td>0</td>\n",
       "      <td>0</td>\n",
       "      <td>1</td>\n",
       "      <td>0</td>\n",
       "      <td>0</td>\n",
       "      <td>0</td>\n",
       "      <td>0</td>\n",
       "    </tr>\n",
       "    <tr>\n",
       "      <th>1</th>\n",
       "      <td>29.0</td>\n",
       "      <td>1</td>\n",
       "      <td>0</td>\n",
       "      <td>6</td>\n",
       "      <td>5</td>\n",
       "      <td>1</td>\n",
       "      <td>0</td>\n",
       "      <td>0</td>\n",
       "      <td>0</td>\n",
       "      <td>0</td>\n",
       "      <td>...</td>\n",
       "      <td>0</td>\n",
       "      <td>0</td>\n",
       "      <td>0</td>\n",
       "      <td>0</td>\n",
       "      <td>0</td>\n",
       "      <td>1</td>\n",
       "      <td>0</td>\n",
       "      <td>0</td>\n",
       "      <td>0</td>\n",
       "      <td>0</td>\n",
       "    </tr>\n",
       "    <tr>\n",
       "      <th>2</th>\n",
       "      <td>30.0</td>\n",
       "      <td>0</td>\n",
       "      <td>0</td>\n",
       "      <td>4</td>\n",
       "      <td>4</td>\n",
       "      <td>1</td>\n",
       "      <td>0</td>\n",
       "      <td>0</td>\n",
       "      <td>0</td>\n",
       "      <td>0</td>\n",
       "      <td>...</td>\n",
       "      <td>0</td>\n",
       "      <td>0</td>\n",
       "      <td>0</td>\n",
       "      <td>0</td>\n",
       "      <td>0</td>\n",
       "      <td>1</td>\n",
       "      <td>0</td>\n",
       "      <td>0</td>\n",
       "      <td>0</td>\n",
       "      <td>0</td>\n",
       "    </tr>\n",
       "    <tr>\n",
       "      <th>3</th>\n",
       "      <td>30.0</td>\n",
       "      <td>1</td>\n",
       "      <td>1</td>\n",
       "      <td>6</td>\n",
       "      <td>7</td>\n",
       "      <td>1</td>\n",
       "      <td>0</td>\n",
       "      <td>0</td>\n",
       "      <td>0</td>\n",
       "      <td>0</td>\n",
       "      <td>...</td>\n",
       "      <td>0</td>\n",
       "      <td>0</td>\n",
       "      <td>0</td>\n",
       "      <td>0</td>\n",
       "      <td>0</td>\n",
       "      <td>1</td>\n",
       "      <td>0</td>\n",
       "      <td>0</td>\n",
       "      <td>0</td>\n",
       "      <td>0</td>\n",
       "    </tr>\n",
       "    <tr>\n",
       "      <th>4</th>\n",
       "      <td>28.0</td>\n",
       "      <td>0</td>\n",
       "      <td>0</td>\n",
       "      <td>5</td>\n",
       "      <td>7</td>\n",
       "      <td>1</td>\n",
       "      <td>0</td>\n",
       "      <td>0</td>\n",
       "      <td>0</td>\n",
       "      <td>0</td>\n",
       "      <td>...</td>\n",
       "      <td>0</td>\n",
       "      <td>0</td>\n",
       "      <td>0</td>\n",
       "      <td>0</td>\n",
       "      <td>0</td>\n",
       "      <td>1</td>\n",
       "      <td>0</td>\n",
       "      <td>0</td>\n",
       "      <td>0</td>\n",
       "      <td>0</td>\n",
       "    </tr>\n",
       "  </tbody>\n",
       "</table>\n",
       "<p>5 rows × 58 columns</p>\n",
       "</div>"
      ],
      "text/plain": [
       "    Age  Number of children  Number of brought up children  \\\n",
       "0  21.0                   0                              0   \n",
       "1  29.0                   1                              0   \n",
       "2  30.0                   0                              0   \n",
       "3  30.0                   1                              1   \n",
       "4  28.0                   0                              0   \n",
       "\n",
       "   Religiosity (1-not religious at all, 7-extremely religious)  \\\n",
       "0                                                  4             \n",
       "1                                                  6             \n",
       "2                                                  4             \n",
       "3                                                  6             \n",
       "4                                                  5             \n",
       "\n",
       "   Pension (1-strongly agree, 4-neither agree nor disagree, 7-strongly disagree)  \\\n",
       "0                                                  4                               \n",
       "1                                                  5                               \n",
       "2                                                  4                               \n",
       "3                                                  7                               \n",
       "4                                                  7                               \n",
       "\n",
       "   Country_Brazil   Country_Bulgaria  Country_China  Country_Croatia  \\\n",
       "0                1                 0              0                0   \n",
       "1                1                 0              0                0   \n",
       "2                1                 0              0                0   \n",
       "3                1                 0              0                0   \n",
       "4                1                 0              0                0   \n",
       "\n",
       "   Country_Estonia  ...  Religion_Evangelic  Religion_Jehovah  \\\n",
       "0                0  ...                   0                 0   \n",
       "1                0  ...                   0                 0   \n",
       "2                0  ...                   0                 0   \n",
       "3                0  ...                   0                 0   \n",
       "4                0  ...                   0                 0   \n",
       "\n",
       "   Religion_Jewish  Religion_Muslim  Religion_None  Religion_Protestant  \\\n",
       "0                0                0              0                    1   \n",
       "1                0                0              0                    1   \n",
       "2                0                0              0                    1   \n",
       "3                0                0              0                    1   \n",
       "4                0                0              0                    1   \n",
       "\n",
       "   Religion_Protestant0  Religion_ProtestantCatholic  \\\n",
       "0                     0                            0   \n",
       "1                     0                            0   \n",
       "2                     0                            0   \n",
       "3                     0                            0   \n",
       "4                     0                            0   \n",
       "\n",
       "   Religion_ProtestantProtestant  Religion_Spiritualism  \n",
       "0                              0                      0  \n",
       "1                              0                      0  \n",
       "2                              0                      0  \n",
       "3                              0                      0  \n",
       "4                              0                      0  \n",
       "\n",
       "[5 rows x 58 columns]"
      ]
     },
     "execution_count": 38,
     "metadata": {},
     "output_type": "execute_result"
    }
   ],
   "source": [
    "data2 = X.copy()\n",
    "\n",
    "data_binary_encoded = pd.get_dummies(data2, columns=[\"Country\",\"Sex\",\"Education\",\"Material Status\",\"Religion\",])\n",
    "data_binary_encoded.head()\n",
    "\n"
   ]
  },
  {
   "cell_type": "code",
   "execution_count": 42,
   "metadata": {},
   "outputs": [
    {
     "name": "stdout",
     "output_type": "stream",
     "text": [
      "R2 Score: 0.8117857078074913\n"
     ]
    },
    {
     "data": {
      "image/png": "[encoded data removed]",
      "text/plain": [
       "<Figure size 432x288 with 1 Axes>"
      ]
     },
     "metadata": {
      "needs_background": "light"
     },
     "output_type": "display_data"
    }
   ],
   "source": [
    "from sklearn.model_selection import train_test_split\n",
    "\n",
    "X = pd.get_dummies(X)\n",
    "\n",
    "X_train, X_test, y_train, y_test = train_test_split(X, y, random_state=42)\n",
    "\n",
    "X_train.head()\n",
    "from sklearn.linear_model import LinearRegression\n",
    "model = LinearRegression()\n",
    "\n",
    "# Fitting our model with all of our features in X\n",
    "model.fit(X, y)\n",
    "score = model.score(X_train, y_train)\n",
    "print(f\"R2 Score: {score}\")\n",
    "predictions = model.predict(X)\n",
    "# Plot Residuals\n",
    "plt.scatter(predictions, predictions - y)\n",
    "plt.hlines(y=0, xmin=predictions.min(), xmax=predictions.max())\n",
    "plt.show()\n",
    "\n"
   ]
  },
  {
   "cell_type": "code",
   "execution_count": 53,
   "metadata": {},
   "outputs": [
    {
     "data": {
      "text/plain": [
       "[(-6.811532616546211, 'Religion_Evangelic'),\n",
       " (-3.749353059076221, 'Country_Nigeria '),\n",
       " (-3.5403249922221494, 'Country_Ghana'),\n",
       " (-2.980066420340698, 'Country_Germany'),\n",
       " (-2.6378599863235292, 'Country_Uganda'),\n",
       " (-2.0320614578440037, 'Country_Malaysia'),\n",
       " (-1.7429751120869974, 'Material Status_6'),\n",
       " (-1.674409116981417, 'Education_Masters Degree'),\n",
       " (-1.6369557652462516, 'Religion_Spiritualism'),\n",
       " (-1.476226993543317, 'Religion_Jewish'),\n",
       " (-1.3761221086874347, 'Country_Bulgaria'),\n",
       " (-1.2962505343997293, 'Country_Mexico'),\n",
       " (-0.9185149809275239, 'Country_South Korea'),\n",
       " (-0.8209716700365568, 'Country_India'),\n",
       " (-0.7430579776921216, 'Country_Switzerland'),\n",
       " (-0.6514408150902333, 'Country_Spain '),\n",
       " (-0.4455722284471837, 'Number of brought up children'),\n",
       " (-0.36386654391787854, 'Education_High School or Technical College'),\n",
       " (-0.34206660092772884, 'Religion_ProtestantProtestant'),\n",
       " (-0.16945369808904198,\n",
       "  'Pension (1-strongly agree, 4-neither agree nor disagree, 7-strongly disagree)'),\n",
       " (-0.09780493185261269, 'Religion_Muslim'),\n",
       " (-0.045527718878907275, 'Material Status_Better than average'),\n",
       " (0.08953638143146547,\n",
       "  'Religiosity (1-not religious at all, 7-extremely religious)'),\n",
       " (0.10817940025535448, 'Country_China'),\n",
       " (0.1578873683230705, 'Material Status_Average'),\n",
       " (0.16851568530299493, 'Country_Croatia'),\n",
       " (0.3261546198908005, 'Education_Secondary School'),\n",
       " (0.37719397214152833, 'Country_HongKong'),\n",
       " (0.3979666448314487, 'Country_Hungary'),\n",
       " (0.43902015797474814, 'Religion_Buddhist'),\n",
       " (0.45892684846819487, 'Material Status_Much better than average'),\n",
       " (0.47160591905075744, 'Religion_Jehovah'),\n",
       " (0.488107089410308, 'Country_Pakistan'),\n",
       " (0.4965818680113187, 'Country_Brazil '),\n",
       " (0.5498851035058067, 'Material Status_Worse than Average'),\n",
       " (0.6218035106730226, 'Material Status_Much Worse than Average'),\n",
       " (0.6902038157241799, 'Country_Estonia'),\n",
       " (0.7301725198980658, 'Religion_Catholic'),\n",
       " (0.7332552310188831, 'Religion_Protestant0'),\n",
       " (0.7531350556517995, 'Education_Primary School'),\n",
       " (0.7572304028792898, 'Sex'),\n",
       " (0.7922892083255587, 'Religion_None'),\n",
       " (0.80665527124176, 'Age'),\n",
       " (0.9444225800695998, 'Country_Turkey '),\n",
       " (0.9589859853568252, 'Education_No Education'),\n",
       " (1.0370485002322853, 'Country_U.K.'),\n",
       " (1.207670886213445, 'Country_Saudi Arabia'),\n",
       " (1.2215502102963471, 'Country_Portugal'),\n",
       " (1.3069715099533454, 'Religion_ProtestantCatholic'),\n",
       " (1.3519750847622685, 'Number of children'),\n",
       " (1.3807620454284701, 'Religion_Protestant'),\n",
       " (1.5906113193963074, 'Country_Poland '),\n",
       " (1.7750275514752694, 'Country_Slovakia'),\n",
       " (1.842935468390833, 'Country_Iran '),\n",
       " (2.037124651146759, 'Country_Kazakhstan'),\n",
       " (2.998306583008408, 'Country_Russia'),\n",
       " (3.3645777767342526, 'Country_Italy')]"
      ]
     },
     "execution_count": 53,
     "metadata": {},
     "output_type": "execute_result"
    }
   ],
   "source": [
    "coeff = (model.coef_)\n",
    "features = sorted(zip(coeff[0],X.columns))\n",
    "features\n",
    "# plt.bar(X.columns,coeff[0])\n",
    "# predictions = model.predict(X_test)\n",
    "# predictions\n",
    "# print(X_test)"
   ]
  },
  {
   "cell_type": "code",
   "execution_count": 47,
   "metadata": {},
   "outputs": [
    {
     "name": "stdout",
     "output_type": "stream",
     "text": [
      "[[11.39996738]\n",
      " [11.59022399]\n",
      " [18.23382815]\n",
      " ...\n",
      " [10.81692876]\n",
      " [ 3.78429537]\n",
      " [16.8378617 ]]\n"
     ]
    }
   ],
   "source": [
    "print(predictions)"
   ]
  },
  {
   "cell_type": "code",
   "execution_count": 92,
   "metadata": {},
   "outputs": [],
   "source": [
    "data2 = data.groupby(\"Country\")[\"Marriage duration (years)\"].mean()\n",
    "grouped = data2.reset_index()\n",
    "Grouped = grouped.sort_values(\"Marriage duration (years)\", ascending=False)\n",
    "\n"
   ]
  },
  {
   "cell_type": "code",
   "execution_count": 127,
   "metadata": {},
   "outputs": [
    {
     "data": {
      "image/png": "[encoded data removed]",
      "text/plain": [
       "<Figure size 432x288 with 1 Axes>"
      ]
     },
     "metadata": {
      "needs_background": "light"
     },
     "output_type": "display_data"
    },
    {
     "data": {
      "text/plain": [
       "<Figure size 3600x1440 with 0 Axes>"
      ]
     },
     "metadata": {},
     "output_type": "display_data"
    }
   ],
   "source": [
    "plt.bar(Grouped[\"Country\"],Grouped[\"Marriage duration (years)\"],color=\"blue\")\n",
    "plt.xlabel(\"Country\")\n",
    "plt.ylabel(\"Marriage Duration (Years)\")\n",
    "plt.xticks(rotation=90)\n",
    "plt.figure(figsize=(50,20))\n",
    "plt.savefig(\"DurationSummary.png\")\n",
    "Grouped.to_csv(\"Grouped.csv\")\n",
    "# Countries = data[[\"Country\",\"Marriage duration (years)\"]]\n",
    "# Italy = Countries.loc[(Countries.Country == 'Italy')]\n",
    "# Iran = Countries.loc[(Countries.Country == 'Iran')]\n",
    "# Kazakhstan = Countries.loc[(Countries.Country == 'Kazakhstan')]\n",
    "# Russia = Countries.loc[(Countries.Country == 'Russia')]\n",
    "# Slovakia = Countries.loc[(Countries.Country == 'Slovakia')]\n",
    "# plt.bar(Slovakia[\"\"])"
   ]
  },
  {
   "cell_type": "code",
   "execution_count": 126,
   "metadata": {},
   "outputs": [
    {
     "data": {
      "image/png": "[encoded data removed]",
      "text/plain": [
       "<Figure size 432x288 with 1 Axes>"
      ]
     },
     "metadata": {
      "needs_background": "light"
     },
     "output_type": "display_data"
    },
    {
     "data": {
      "text/plain": [
       "<Figure size 1440x720 with 0 Axes>"
      ]
     },
     "metadata": {},
     "output_type": "display_data"
    }
   ],
   "source": [
    "Features = pd.DataFrame(features)\n",
    "Features\n",
    "plt.bar(Features[1],Features[0])\n",
    "plt.xticks(rotation=90)\n",
    "plt.figure(figsize=(20,10))\n",
    "Features.to_csv(\"Features.csv\")\n",
    "\n"
   ]
  },
  {
   "cell_type": "code",
   "execution_count": 128,
   "metadata": {},
   "outputs": [],
   "source": [
    "Predictions = pd.DataFrame(predictions)\n",
    "Predictions.to_csv(\"Predictions.csv\")"
   ]
  },
  {
   "cell_type": "code",
   "execution_count": null,
   "metadata": {},
   "outputs": [],
   "source": []
  },
  {
   "cell_type": "code",
   "execution_count": null,
   "metadata": {},
   "outputs": [],
   "source": []
  },
  {
   "cell_type": "code",
   "execution_count": null,
   "metadata": {},
   "outputs": [],
   "source": []
  },
  {
   "cell_type": "code",
   "execution_count": null,
   "metadata": {},
   "outputs": [],
   "source": []
  },
  {
   "cell_type": "code",
   "execution_count": null,
   "metadata": {},
   "outputs": [],
   "source": []
  },
  {
   "cell_type": "code",
   "execution_count": null,
   "metadata": {},
   "outputs": [],
   "source": []
  },
  {
   "cell_type": "code",
   "execution_count": null,
   "metadata": {},
   "outputs": [],
   "source": []
  }
 ],
 "metadata": {
  "kernelspec": {
   "display_name": "Python 3",
   "language": "python",
   "name": "python3"
  },
  "language_info": {
   "codemirror_mode": {
    "name": "ipython",
    "version": 3
   },
   "file_extension": ".py",
   "mimetype": "text/x-python",
   "name": "python",
   "nbconvert_exporter": "python",
   "pygments_lexer": "ipython3",
   "version": "3.7.3"
  }
 },
 "nbformat": 4,
 "nbformat_minor": 2
}
